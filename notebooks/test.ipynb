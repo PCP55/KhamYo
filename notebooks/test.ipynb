{
 "cells": [
  {
   "cell_type": "code",
   "execution_count": 1,
   "metadata": {},
   "outputs": [
    {
     "name": "stderr",
     "output_type": "stream",
     "text": [
      "WARNING:root:No sentence-transformers model found with name C:\\Users\\sadxz/.cache\\torch\\sentence_transformers\\airesearch_wangchanberta-base-att-spm-uncased. Creating a new one with MEAN pooling.\n",
      "Some weights of the model checkpoint at C:\\Users\\sadxz/.cache\\torch\\sentence_transformers\\airesearch_wangchanberta-base-att-spm-uncased were not used when initializing CamembertModel: ['lm_head.dense.bias', 'lm_head.bias', 'lm_head.dense.weight', 'lm_head.decoder.weight', 'lm_head.decoder.bias', 'lm_head.layer_norm.weight', 'lm_head.layer_norm.bias']\n",
      "- This IS expected if you are initializing CamembertModel from the checkpoint of a model trained on another task or with another architecture (e.g. initializing a BertForSequenceClassification model from a BertForPreTraining model).\n",
      "- This IS NOT expected if you are initializing CamembertModel from the checkpoint of a model that you expect to be exactly identical (initializing a BertForSequenceClassification model from a BertForSequenceClassification model).\n"
     ]
    }
   ],
   "source": [
    "from khamyo import replace"
   ]
  },
  {
   "cell_type": "code",
   "execution_count": 2,
   "metadata": {},
   "outputs": [
    {
     "data": {
      "text/plain": [
       "[('ชายและหญิงพากันไปโรงเรียน แบบนี้แปลความได้สองอย่างเลยนะ', tensor(0.7742)),\n",
       " ('ชายและหญิงพากันไปโรงแรม แบบนี้แปลความได้สองอย่างเลยนะ', tensor(0.2434))]"
      ]
     },
     "execution_count": 2,
     "metadata": {},
     "output_type": "execute_result"
    }
   ],
   "source": [
    "replace(\"ชายและหญิงพากันไปรร. แบบนี้แปลความได้สองอย่างเลยนะ\")"
   ]
  },
  {
   "cell_type": "code",
   "execution_count": 3,
   "metadata": {},
   "outputs": [
    {
     "data": {
      "text/plain": [
       "[('ผู้อำนวยการโรงเรียนพานักเรียนเข้าโรงเรียนหลังจากนักเรียนโดดเรียนวิชาภาษาไทย',\n",
       "  tensor(0.6992)),\n",
       " ('ผู้อำนวยการโรงเรียนพานักเรียนเข้าโรงแรมหลังจากนักเรียนโดดเรียนวิชาภาษาไทย',\n",
       "  tensor(0.6886))]"
      ]
     },
     "execution_count": 3,
     "metadata": {},
     "output_type": "execute_result"
    }
   ],
   "source": [
    "replace(\"ผอ.รร.พานร.เข้ารร.หลังจากนร.โดดเรียนวิชาภาษาไทย\")"
   ]
  },
  {
   "cell_type": "code",
   "execution_count": 4,
   "metadata": {},
   "outputs": [
    {
     "data": {
      "text/plain": [
       "[('ตอนที่ผมเป็นครูอัตราจ้าง ไปอยู่เวรที่โรงเรียนทุกวัน จนกระทั่งได้บรรจุรับราชการเป็นครู',\n",
       "  tensor(0.6960)),\n",
       " ('ตอนที่ผมเป็นครูอัตราจ้าง ไปอยู่เวรที่โรงแรมทุกวัน จนกระทั่งได้บรรจุรับราชการเป็นครู',\n",
       "  tensor(0.4055))]"
      ]
     },
     "execution_count": 4,
     "metadata": {},
     "output_type": "execute_result"
    }
   ],
   "source": [
    "replace(\"ตอนที่ผมเป็นครูอัตราจ้าง ไปอยู่เวรที่รร.ทุกวัน จนกระทั่งได้บรรจุรับราชการเป็นครู\")"
   ]
  },
  {
   "cell_type": "code",
   "execution_count": 5,
   "metadata": {},
   "outputs": [
    {
     "data": {
      "text/plain": [
       "[('มุ่งเน้นพัฒนาการศึกษาและผลสัมฤทธิ์การเรียนของนักเรียน ตามโครงการส่งเสริมการศึกษาชุมชนด้วยระบบการเรียนคณิตศาสตร์และวิทยาศาสตร์รูปแบบใหม่ผ่านสื่อดิจิทัล',\n",
       "  tensor(0.8544)),\n",
       " ('มุ่งเน้นพัฒนาการศึกษาและผลสัมฤทธิ์การเรียนของนักเรียน ตามคณะรักษาความสงบแห่งชาติด้วยระบบการเรียนคณิตศาสตร์และวิทยาศาสตร์รูปแบบใหม่ผ่านสื่อดิจิทัล',\n",
       "  tensor(0.7541))]"
      ]
     },
     "execution_count": 5,
     "metadata": {},
     "output_type": "execute_result"
    }
   ],
   "source": [
    "replace(\"มุ่งเน้นพัฒนาการศึกษาและผลสัมฤทธิ์การเรียนของนักเรียน ตามคสช.ด้วยระบบการเรียนคณิตศาสตร์และวิทยาศาสตร์รูปแบบใหม่ผ่านสื่อดิจิทัล\")"
   ]
  },
  {
   "cell_type": "code",
   "execution_count": 6,
   "metadata": {},
   "outputs": [
    {
     "data": {
      "text/plain": [
       "[('นายกรัฐมนตรีกล่าวในฐานะหัวหน้าคณะรักษาความสงบแห่งชาติต่อประชาชน',\n",
       "  tensor(0.5559)),\n",
       " ('นายกรัฐมนตรีกล่าวในฐานะหัวหน้าโครงการส่งเสริมการศึกษาชุมชนต่อประชาชน',\n",
       "  tensor(0.5326))]"
      ]
     },
     "execution_count": 6,
     "metadata": {},
     "output_type": "execute_result"
    }
   ],
   "source": [
    "replace(\"นายกรัฐมนตรีกล่าวในฐานะหัวหน้าคสช.ต่อประชาชน\")"
   ]
  },
  {
   "cell_type": "code",
   "execution_count": 7,
   "metadata": {},
   "outputs": [
    {
     "data": {
      "text/plain": [
       "[('ตอนที่ผมเป็นครูอัตราจ้าง ไปอยู่เวรที่โรงเรียนทุกวัน จนกระทั่งได้บรรจุรับราชการเป็นครู จากนั้นได้เลื่อนตำแหน่งเป็นครูใหญ่โรงเรียน',\n",
       "  tensor(0.9713)),\n",
       " ('ตอนที่ผมเป็นครูอัตราจ้าง ไปอยู่เวรที่โรงเรียนทุกวัน จนกระทั่งได้บรรจุรับราชการเป็นครู จากนั้นได้เลื่อนตำแหน่งเป็นครูใหญ่โรงแรม',\n",
       "  tensor(0.9595))]"
      ]
     },
     "execution_count": 7,
     "metadata": {},
     "output_type": "execute_result"
    }
   ],
   "source": [
    "replace(\"ตอนที่ผมเป็นครูอัตราจ้าง ไปอยู่เวรที่รร.ทุกวัน จนกระทั่งได้บรรจุรับราชการเป็นครู จากนั้นได้เลื่อนตำแหน่งเป็นครูใหญ่รร.\")"
   ]
  },
  {
   "cell_type": "code",
   "execution_count": 8,
   "metadata": {},
   "outputs": [
    {
     "data": {
      "text/plain": [
       "[('ข่าว....ผู้อำนวยการพาครูเข้า โรงเรียน กลับถึงบ้าน ผู้อำนวยการตาย....',\n",
       "  tensor(0.7395)),\n",
       " ('ข่าว....ผู้อำนวยการพาครูเข้า โรงแรม กลับถึงบ้าน ผู้อำนวยการตาย....',\n",
       "  tensor(0.1763))]"
      ]
     },
     "execution_count": 8,
     "metadata": {},
     "output_type": "execute_result"
    }
   ],
   "source": [
    "replace(\"ข่าว....ผอ.พาครูเข้า รร. กลับถึงบ้าน ผอ.ตาย....\")"
   ]
  },
  {
   "cell_type": "code",
   "execution_count": 9,
   "metadata": {},
   "outputs": [
    {
     "data": {
      "text/plain": [
       "[('ลูก : หนูไปโรงเรียนนะคะแม่.....\\nแม่ : จ้า.....\\nสามเดือนต่อมา\\nลูก : แม่คะ เมนส์หนูไม่มาสองเดือนแล้วค่ะ\\nแม่ : หาาาาาา...\\n',\n",
       "  tensor(0.9949)),\n",
       " ('ลูก : หนูไปโรงแรมนะคะแม่.....\\nแม่ : จ้า.....\\nสามเดือนต่อมา\\nลูก : แม่คะ เมนส์หนูไม่มาสองเดือนแล้วค่ะ\\nแม่ : หาาาาาา...\\n',\n",
       "  tensor(0.9915))]"
      ]
     },
     "execution_count": 9,
     "metadata": {},
     "output_type": "execute_result"
    }
   ],
   "source": [
    "replace(\"\"\"ลูก : หนูไปรร.นะคะแม่.....\n",
    "แม่ : จ้า.....\n",
    "สามเดือนต่อมา\n",
    "ลูก : แม่คะ เมนส์หนูไม่มาสองเดือนแล้วค่ะ\n",
    "แม่ : หาาาาาา...\n",
    "\"\"\")"
   ]
  },
  {
   "cell_type": "code",
   "execution_count": 10,
   "metadata": {},
   "outputs": [
    {
     "data": {
      "text/plain": [
       "[('เมื่อวานไป โรงเรียน มา เห็นเพื่อนผมที่ โรงเรียน ออก โรงเรียน กับใครไม่รู้ งี้หรอ',\n",
       "  tensor(0.9360)),\n",
       " ('เมื่อวานไป โรงเรียน มา เห็นเพื่อนผมที่ โรงเรียน ออก โรงแรม กับใครไม่รู้ งี้หรอ',\n",
       "  tensor(0.9170))]"
      ]
     },
     "execution_count": 10,
     "metadata": {},
     "output_type": "execute_result"
    }
   ],
   "source": [
    "replace(\"เมื่อวานไป รร. มา เห็นเพื่อนผมที่ รร. ออก รร. กับใครไม่รู้ งี้หรอ\")"
   ]
  },
  {
   "cell_type": "code",
   "execution_count": 11,
   "metadata": {},
   "outputs": [
    {
     "data": {
      "text/plain": [
       "[('ไปโรงเรียนกันมั้ยเตง', tensor(0.2500)),\n",
       " ('ไปโรงแรมกันมั้ยเตง', tensor(0.1392))]"
      ]
     },
     "execution_count": 11,
     "metadata": {},
     "output_type": "execute_result"
    }
   ],
   "source": [
    "replace(\"ไปรร.กันมั้ยเตง\")"
   ]
  },
  {
   "cell_type": "code",
   "execution_count": 12,
   "metadata": {},
   "outputs": [
    {
     "data": {
      "text/plain": [
       "[('คืนวันนี้ต้องไปนอนที่โรงแรมกับพี่ที่ทำงาน', tensor(0.9703)),\n",
       " ('คืนวันนี้ต้องไปนอนที่โรงเรียนกับพี่ที่ทำงาน', tensor(0.9028))]"
      ]
     },
     "execution_count": 12,
     "metadata": {},
     "output_type": "execute_result"
    }
   ],
   "source": [
    "replace(\"คืนวันนี้ต้องไปนอนที่รร.กับพี่ที่ทำงาน\")"
   ]
  },
  {
   "cell_type": "code",
   "execution_count": 13,
   "metadata": {},
   "outputs": [
    {
     "data": {
      "text/plain": [
       "[('ค่ำคืนนี้ฉันจะไปทำการบ้านที่ โรงแรม', tensor(0.4908)),\n",
       " ('ค่ำคืนนี้ฉันจะไปทำการบ้านที่ โรงเรียน', tensor(0.4419))]"
      ]
     },
     "execution_count": 13,
     "metadata": {},
     "output_type": "execute_result"
    }
   ],
   "source": [
    "replace(\"ค่ำคืนนี้ฉันจะไปทำการบ้านที่ รร.\")"
   ]
  },
  {
   "cell_type": "code",
   "execution_count": 14,
   "metadata": {},
   "outputs": [
    {
     "data": {
      "text/plain": [
       "[('เบื่ออยู่บ้านแล้ว อยากไปโรงแรม', tensor(0.4261)),\n",
       " ('เบื่ออยู่บ้านแล้ว อยากไปโรงเรียน', tensor(0.3359))]"
      ]
     },
     "execution_count": 14,
     "metadata": {},
     "output_type": "execute_result"
    }
   ],
   "source": [
    "replace(\"เบื่ออยู่บ้านแล้ว อยากไปรร.\")"
   ]
  },
  {
   "cell_type": "code",
   "execution_count": 20,
   "metadata": {},
   "outputs": [
    {
     "data": {
      "text/plain": [
       "[('เธอเรียนอยู่ชั้นมัธยมศึกษา4 ที่โรงเรียนนางรอง เธอเรียนดี', tensor(0.8372)),\n",
       " ('เธอเรียนอยู่ชั้นมหาวิทยาลัย4 ที่โรงเรียนนางรอง เธอเรียนดี', tensor(0.7753))]"
      ]
     },
     "execution_count": 20,
     "metadata": {},
     "output_type": "execute_result"
    }
   ],
   "source": [
    "replace(\"เธอเรียนอยู่ชั้นม.4 ที่รร.นางรอง เธอเรียนดี\")"
   ]
  },
  {
   "cell_type": "code",
   "execution_count": 27,
   "metadata": {},
   "outputs": [
    {
     "data": {
      "text/plain": [
       "[('เราเป็นนักศึกษาเรียนที่มหาวิทยาลัยขอนแก่น', tensor(0.8974)),\n",
       " ('เราเป็นนักศึกษาเรียนที่มัธยมศึกษาขอนแก่น', tensor(0.3587))]"
      ]
     },
     "execution_count": 27,
     "metadata": {},
     "output_type": "execute_result"
    }
   ],
   "source": [
    "replace(\"เราเป็นนักศึกษาเรียนที่ม.ขอนแก่น\")"
   ]
  },
  {
   "cell_type": "code",
   "execution_count": 29,
   "metadata": {},
   "outputs": [
    {
     "data": {
      "text/plain": [
       "[('เราเป็นนักศึกษาเรียนที่ มหาวิทยาลัยเกษตร', tensor(0.7158)),\n",
       " ('เราเป็นนักศึกษาเรียนที่ มัธยมศึกษาเกษตร', tensor(0.5005))]"
      ]
     },
     "execution_count": 29,
     "metadata": {},
     "output_type": "execute_result"
    }
   ],
   "source": [
    "replace(\"เราเป็นนักศึกษาเรียนที่ ม.เกษตร\")"
   ]
  },
  {
   "cell_type": "code",
   "execution_count": null,
   "metadata": {},
   "outputs": [],
   "source": []
  }
 ],
 "metadata": {
  "kernelspec": {
   "display_name": "Python 3",
   "language": "python",
   "name": "python3"
  },
  "language_info": {
   "codemirror_mode": {
    "name": "ipython",
    "version": 3
   },
   "file_extension": ".py",
   "mimetype": "text/x-python",
   "name": "python",
   "nbconvert_exporter": "python",
   "pygments_lexer": "ipython3",
   "version": "3.8.5"
  }
 },
 "nbformat": 4,
 "nbformat_minor": 4
}
