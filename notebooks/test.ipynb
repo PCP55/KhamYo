{
 "cells": [
  {
   "cell_type": "code",
   "execution_count": 1,
   "metadata": {},
   "outputs": [
    {
     "name": "stderr",
     "output_type": "stream",
     "text": [
      "WARNING:root:No sentence-transformers model found with name C:\\Users\\sadxz/.cache\\torch\\sentence_transformers\\airesearch_wangchanberta-base-att-spm-uncased. Creating a new one with MEAN pooling.\n",
      "Some weights of the model checkpoint at C:\\Users\\sadxz/.cache\\torch\\sentence_transformers\\airesearch_wangchanberta-base-att-spm-uncased were not used when initializing CamembertModel: ['lm_head.dense.weight', 'lm_head.decoder.weight', 'lm_head.layer_norm.bias', 'lm_head.layer_norm.weight', 'lm_head.decoder.bias', 'lm_head.dense.bias', 'lm_head.bias']\n",
      "- This IS expected if you are initializing CamembertModel from the checkpoint of a model trained on another task or with another architecture (e.g. initializing a BertForSequenceClassification model from a BertForPreTraining model).\n",
      "- This IS NOT expected if you are initializing CamembertModel from the checkpoint of a model that you expect to be exactly identical (initializing a BertForSequenceClassification model from a BertForSequenceClassification model).\n"
     ]
    }
   ],
   "source": [
    "from khamyo import replace"
   ]
  },
  {
   "cell_type": "code",
   "execution_count": 8,
   "metadata": {},
   "outputs": [
    {
     "data": {
      "text/plain": [
       "[('ชายและหญิงพากันไปโรงเรียน แบบนี้แปลความได้สองอย่างเลยนะ', tensor(0.7742)),\n",
       " ('ชายและหญิงพากันไปโรงแรม แบบนี้แปลความได้สองอย่างเลยนะ', tensor(0.2434))]"
      ]
     },
     "execution_count": 8,
     "metadata": {},
     "output_type": "execute_result"
    }
   ],
   "source": [
    "replace(\"ชายและหญิงพากันไปรร. แบบนี้แปลความได้สองอย่างเลยนะ\")"
   ]
  },
  {
   "cell_type": "code",
   "execution_count": 3,
   "metadata": {},
   "outputs": [
    {
     "data": {
      "text/plain": [
       "[('ผู้อำนวยการโรงเรียนพานักเรียนเข้าโรงเรียนหลังจากนักเรียนโดดเรียนวิชาภาษาไทย',\n",
       "  tensor(0.6992)),\n",
       " ('ผู้อำนวยการโรงเรียนพานักเรียนเข้าโรงแรมหลังจากนักเรียนโดดเรียนวิชาภาษาไทย',\n",
       "  tensor(0.6886))]"
      ]
     },
     "execution_count": 3,
     "metadata": {},
     "output_type": "execute_result"
    }
   ],
   "source": [
    "replace(\"ผอ.รร.พานร.เข้ารร.หลังจากนร.โดดเรียนวิชาภาษาไทย\")"
   ]
  },
  {
   "cell_type": "code",
   "execution_count": 4,
   "metadata": {},
   "outputs": [
    {
     "data": {
      "text/plain": [
       "[('ตอนที่ผมเป็นครูอัตราจ้าง ไปอยู่เวรที่โรงเรียนทุกวัน จนกระทั่งได้บรรจุรับราชการเป็นครู',\n",
       "  tensor(0.6960)),\n",
       " ('ตอนที่ผมเป็นครูอัตราจ้าง ไปอยู่เวรที่โรงแรมทุกวัน จนกระทั่งได้บรรจุรับราชการเป็นครู',\n",
       "  tensor(0.4055))]"
      ]
     },
     "execution_count": 4,
     "metadata": {},
     "output_type": "execute_result"
    }
   ],
   "source": [
    "replace(\"ตอนที่ผมเป็นครูอัตราจ้าง ไปอยู่เวรที่รร.ทุกวัน จนกระทั่งได้บรรจุรับราชการเป็นครู\")"
   ]
  },
  {
   "cell_type": "code",
   "execution_count": 5,
   "metadata": {},
   "outputs": [
    {
     "data": {
      "text/plain": [
       "[('มุ่งเน้นพัฒนาการศึกษาและผลสัมฤทธิ์การเรียนของนักเรียน ตามโครงการส่งเสริมการศึกษาชุมชนด้วยระบบการเรียนคณิตศาสตร์และวิทยาศาสตร์รูปแบบใหม่ผ่านสื่อดิจิทัล',\n",
       "  tensor(0.8544)),\n",
       " ('มุ่งเน้นพัฒนาการศึกษาและผลสัมฤทธิ์การเรียนของนักเรียน ตามคณะรักษาความสงบแห่งชาติด้วยระบบการเรียนคณิตศาสตร์และวิทยาศาสตร์รูปแบบใหม่ผ่านสื่อดิจิทัล',\n",
       "  tensor(0.7541))]"
      ]
     },
     "execution_count": 5,
     "metadata": {},
     "output_type": "execute_result"
    }
   ],
   "source": [
    "replace(\"มุ่งเน้นพัฒนาการศึกษาและผลสัมฤทธิ์การเรียนของนักเรียน ตามคสช.ด้วยระบบการเรียนคณิตศาสตร์และวิทยาศาสตร์รูปแบบใหม่ผ่านสื่อดิจิทัล\")"
   ]
  },
  {
   "cell_type": "code",
   "execution_count": 6,
   "metadata": {},
   "outputs": [
    {
     "data": {
      "text/plain": [
       "[('นายกรัฐมนตรีกล่าวในฐานะหัวหน้าคณะรักษาความสงบแห่งชาติต่อประชาชน',\n",
       "  tensor(0.5559)),\n",
       " ('นายกรัฐมนตรีกล่าวในฐานะหัวหน้าโครงการส่งเสริมการศึกษาชุมชนต่อประชาชน',\n",
       "  tensor(0.5326))]"
      ]
     },
     "execution_count": 6,
     "metadata": {},
     "output_type": "execute_result"
    }
   ],
   "source": [
    "replace(\"นายกรัฐมนตรีกล่าวในฐานะหัวหน้าคสช.ต่อประชาชน\")"
   ]
  },
  {
   "cell_type": "code",
   "execution_count": 7,
   "metadata": {},
   "outputs": [
    {
     "data": {
      "text/plain": [
       "[('ตอนที่ผมเป็นครูอัตราจ้าง ไปอยู่เวรที่โรงเรียนทุกวัน จนกระทั่งได้บรรจุรับราชการเป็นครู จากนั้นได้เลื่อนตำแหน่งเป็นครูใหญ่โรงเรียน',\n",
       "  tensor(0.9713)),\n",
       " ('ตอนที่ผมเป็นครูอัตราจ้าง ไปอยู่เวรที่โรงเรียนทุกวัน จนกระทั่งได้บรรจุรับราชการเป็นครู จากนั้นได้เลื่อนตำแหน่งเป็นครูใหญ่โรงแรม',\n",
       "  tensor(0.9595))]"
      ]
     },
     "execution_count": 7,
     "metadata": {},
     "output_type": "execute_result"
    }
   ],
   "source": [
    "replace(\"ตอนที่ผมเป็นครูอัตราจ้าง ไปอยู่เวรที่รร.ทุกวัน จนกระทั่งได้บรรจุรับราชการเป็นครู จากนั้นได้เลื่อนตำแหน่งเป็นครูใหญ่รร.\")"
   ]
  },
  {
   "cell_type": "code",
   "execution_count": null,
   "metadata": {},
   "outputs": [],
   "source": []
  }
 ],
 "metadata": {
  "kernelspec": {
   "display_name": "Python 3",
   "language": "python",
   "name": "python3"
  },
  "language_info": {
   "codemirror_mode": {
    "name": "ipython",
    "version": 3
   },
   "file_extension": ".py",
   "mimetype": "text/x-python",
   "name": "python",
   "nbconvert_exporter": "python",
   "pygments_lexer": "ipython3",
   "version": "3.8.5"
  }
 },
 "nbformat": 4,
 "nbformat_minor": 4
}
